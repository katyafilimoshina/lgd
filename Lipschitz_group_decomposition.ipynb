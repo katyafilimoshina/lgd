{
  "nbformat": 4,
  "nbformat_minor": 0,
  "metadata": {
    "colab": {
      "provenance": []
    },
    "kernelspec": {
      "name": "python3",
      "display_name": "Python 3"
    },
    "language_info": {
      "name": "python"
    }
  },
  "cells": [
    {
      "cell_type": "markdown",
      "source": [
        "# Функции для автоматизированной системы разложения элементов группы Липшица в произведение векторов в алгебрах Клиффорда\n"
      ],
      "metadata": {
        "id": "OEKYX67-ecJr"
      }
    },
    {
      "cell_type": "markdown",
      "source": [
        "Ссылка на веб-приложение: https://lgroup.streamlit.app/\n",
        "\n",
        "Ссылка на гит: https://github.com/katyafilimoshina/lgd"
      ],
      "metadata": {
        "id": "sowYdIxYepxj"
      }
    },
    {
      "cell_type": "markdown",
      "source": [
        "Содержание блокнота:\n",
        "\n",
        "* [Установка и импорт библиотек и пакетов](#1)\n",
        "* [Определение алгебры Клиффорда](#2)\n",
        "* [Проверка принадлежности элемента группе Липшица](#3)\n",
        "* [Разложение элемента группы Липшица в произведение обратимых векторов](#4)\n",
        "  * [Разложение в случае $n=1$](#4.1)\n",
        "  * [Разложение в случае $n=2$](#4.2)\n",
        "  * [Разложение в случае $n=3$](#4.3)\n",
        "  * [Общая функция для разложения](#4.4)\n",
        "  * [Проверка на примерах](#4.5)\n",
        "* [Визуализация результатов в случае $C\\!\\ell_{2,0}$](#5)\n"
      ],
      "metadata": {
        "id": "PDvfGIkGz86n"
      }
    },
    {
      "cell_type": "markdown",
      "source": [
        "## Установка и импорт библиотек и пакетов <a class=\"anchor\" id=\"1\"></a>"
      ],
      "metadata": {
        "id": "7B7GdQ_ueJpk"
      }
    },
    {
      "cell_type": "code",
      "execution_count": 4,
      "metadata": {
        "colab": {
          "base_uri": "https://localhost:8080/"
        },
        "id": "_DyHrKF7DqK4",
        "outputId": "1fb63ba8-94a4-4bb4-8f64-8172ad401062"
      },
      "outputs": [
        {
          "output_type": "stream",
          "name": "stdout",
          "text": [
            "Looking in indexes: https://pypi.org/simple, https://us-python.pkg.dev/colab-wheels/public/simple/\n",
            "Collecting clifford\n",
            "  Downloading clifford-1.4.0-py3-none-any.whl (159 kB)\n",
            "\u001b[2K     \u001b[90m━━━━━━━━━━━━━━━━━━━━━━━━━━━━━━━━━━━━━━━\u001b[0m \u001b[32m159.3/159.3 kB\u001b[0m \u001b[31m7.3 MB/s\u001b[0m eta \u001b[36m0:00:00\u001b[0m\n",
            "\u001b[?25hRequirement already satisfied: numpy>=1.17 in /usr/local/lib/python3.10/dist-packages (from clifford) (1.22.4)\n",
            "Requirement already satisfied: scipy in /usr/local/lib/python3.10/dist-packages (from clifford) (1.10.1)\n",
            "Requirement already satisfied: numba>0.46 in /usr/local/lib/python3.10/dist-packages (from clifford) (0.56.4)\n",
            "Requirement already satisfied: h5py in /usr/local/lib/python3.10/dist-packages (from clifford) (3.8.0)\n",
            "Collecting sparse (from clifford)\n",
            "  Downloading sparse-0.14.0-py2.py3-none-any.whl (80 kB)\n",
            "\u001b[2K     \u001b[90m━━━━━━━━━━━━━━━━━━━━━━━━━━━━━━━━━━━━━━━━\u001b[0m \u001b[32m81.0/81.0 kB\u001b[0m \u001b[31m10.1 MB/s\u001b[0m eta \u001b[36m0:00:00\u001b[0m\n",
            "\u001b[?25hRequirement already satisfied: llvmlite<0.40,>=0.39.0dev0 in /usr/local/lib/python3.10/dist-packages (from numba>0.46->clifford) (0.39.1)\n",
            "Requirement already satisfied: setuptools in /usr/local/lib/python3.10/dist-packages (from numba>0.46->clifford) (67.7.2)\n",
            "Installing collected packages: sparse, clifford\n",
            "Successfully installed clifford-1.4.0 sparse-0.14.0\n"
          ]
        }
      ],
      "source": [
        "# # можно раскомментировать код ниже, если нужно установить пакет clifford\n",
        "# !pip install clifford"
      ]
    },
    {
      "cell_type": "code",
      "source": [
        "import clifford as cf\n",
        "from math import sqrt\n",
        "import plotly.graph_objects as go\n",
        "from plotly.subplots import make_subplots"
      ],
      "metadata": {
        "id": "DtodrjEOD3yo"
      },
      "execution_count": 5,
      "outputs": []
    },
    {
      "cell_type": "markdown",
      "source": [
        "## Определение алгебры Клиффорда <a class=\"anchor\" id=\"2\"></a>"
      ],
      "metadata": {
        "id": "Lzpam5LFeRHF"
      }
    },
    {
      "cell_type": "code",
      "source": [
        "p = 2 \n",
        "q = 1\n",
        "\n",
        "layout, blades = cf.Cl(p,q) # задаёт алгебру Клиффорда Cl(p,q) размерности p+q\n",
        "locals().update(blades)\n",
        "\n",
        "values = blades.values()\n",
        "elements = []\n",
        "for value in values:\n",
        "      elements.append(value)\n",
        "\n",
        "generators = []\n",
        "for value in elements:\n",
        "      if value(1) != 0:\n",
        "          generators.append(value)\n",
        "\n",
        "blades_dict = dict((i, list(blades.keys())[i]) for i in range(len(blades)))"
      ],
      "metadata": {
        "id": "D6KLUCTOJRL6"
      },
      "execution_count": 6,
      "outputs": []
    },
    {
      "cell_type": "markdown",
      "source": [
        "## Проверка принадлежности элемента группе Липшица <a class=\"anchor\" id=\"3\"></a>"
      ],
      "metadata": {
        "id": "VniehbDLPksJ"
      }
    },
    {
      "cell_type": "code",
      "source": [
        "def if_invertible_LG(element):\n",
        "  '''\n",
        "  Проверяет обратимость элемента группы Липшица\n",
        "\n",
        "  :element: элемент алгебры Клиффорда\n",
        "  :return: True/False, если принадлежит/не принадлежит\n",
        "  '''\n",
        "  norm_value = ~element * element\n",
        "  if ((norm_value(0) == norm_value) & (norm_value != 0)):\n",
        "    return True\n",
        "  else:\n",
        "    return False"
      ],
      "metadata": {
        "id": "uDqjlELTIcEe"
      },
      "execution_count": 7,
      "outputs": []
    },
    {
      "cell_type": "code",
      "source": [
        "def inverse_LG(element):\n",
        "  '''\n",
        "  Находит обратный элемент для элемента группы Липшица\n",
        "\n",
        "  :element: элемент группы Липшица\n",
        "  :return: обратный элемент\n",
        "  '''\n",
        "  norm_value = ~element * element\n",
        "  return ~element / norm_value"
      ],
      "metadata": {
        "id": "_saXehtVKGUz"
      },
      "execution_count": 8,
      "outputs": []
    },
    {
      "cell_type": "code",
      "source": [
        "def if_even(element):\n",
        "  '''\n",
        "  Проверяет чётность элемента\n",
        "\n",
        "  :element: элемент алгебры Клиффорда\n",
        "  :return: True/False, если является/не является чётным\n",
        "  '''\n",
        "  if element.even - element == 0:\n",
        "    return True\n",
        "  else:\n",
        "    return False"
      ],
      "metadata": {
        "id": "sUVZ9gAlLEwU"
      },
      "execution_count": 9,
      "outputs": []
    },
    {
      "cell_type": "code",
      "source": [
        "def if_odd(element):\n",
        "  '''\n",
        "  Проверяет нечётность элемента\n",
        "\n",
        "  :element: элемент алгебры Клиффорда\n",
        "  :return: True/False, если является/не является нечётным\n",
        "  '''\n",
        "  if element.odd - element == 0:\n",
        "    return True\n",
        "  else:\n",
        "    return False"
      ],
      "metadata": {
        "id": "7j3N5WnmLWHD"
      },
      "execution_count": 10,
      "outputs": []
    },
    {
      "cell_type": "code",
      "source": [
        "def if_preserves_grade1(element):\n",
        "  '''\n",
        "  Проверяет, сохраняет ли элемент подпространство ранга 1 при присоединённом действии\n",
        "\n",
        "  :element: элемент алгебры Клиффорда\n",
        "  :return: True/False, если сохраняет/не сохраняет\n",
        "  '''\n",
        "  for generator in generators:\n",
        "    ad = element * generator * ~element\n",
        "    if ad(1) - ad != 0:\n",
        "      return False\n",
        "  return True"
      ],
      "metadata": {
        "id": "dub3PjSgLwi-"
      },
      "execution_count": 11,
      "outputs": []
    },
    {
      "cell_type": "code",
      "source": [
        "def if_in_LG(element):\n",
        "  '''\n",
        "  Проверяет, принадлежит ли элемент группе Липшица\n",
        "\n",
        "  :element: элемент алгебры Клиффорда\n",
        "  :return: True, если принадлежит; если не принадлежит, причина\n",
        "  '''\n",
        "  invertible, even, odd, preserves_grade1  = if_invertible_LG(element), if_even(element), if_odd(element), if_preserves_grade1(element)\n",
        "\n",
        "  if invertible & (even | odd) & preserves_grade1:\n",
        "    return True\n",
        "  \n",
        "  if invertible == False:\n",
        "    return \"Элемент НЕ принадлежит группе Липшица: значение функции нормы элемента $$\\psi(T)=\\widetilde{T}T$$ \\\n",
        "        не принадлежит подпространству ранга 0 или равно нулю.\"\n",
        "\n",
        "  if (even | odd) == False:\n",
        "    return \"Элемент НЕ принадлежит группе Липшица: он не является ни чётным, ни нечётным.\"\n",
        "\n",
        "  if preserves_grade1 == False:\n",
        "    return \"Элемент НЕ принадлежит группе Липшица: он не сохраняет подпространство ранга 1 при ad.\""
      ],
      "metadata": {
        "id": "u0D0G7KHEAfz"
      },
      "execution_count": 12,
      "outputs": []
    },
    {
      "cell_type": "markdown",
      "source": [
        "## Разложение элемента группы Липшица в произведение обратимых векторов <a class=\"anchor\" id=\"4\"></a>"
      ],
      "metadata": {
        "id": "QYBexC51zsdh"
      }
    },
    {
      "cell_type": "markdown",
      "source": [
        "### Разложение в случае $n=1$ <a class=\"anchor\" id=\"4.1\"></a>"
      ],
      "metadata": {
        "id": "0qRoTonlPpxB"
      }
    },
    {
      "cell_type": "code",
      "source": [
        "def factorization_n1(element):\n",
        "  '''\n",
        "  Раскладывает элемент группы Липшица в произведение векторов в случае n = 1\n",
        "\n",
        "  :element: элемент группы Липшица\n",
        "  :return: list() с множителями в разложении\n",
        "  '''\n",
        "  eta_11 = e1 ** 2\n",
        "\n",
        "  if if_even(element) == True:\n",
        "    return [(element(0) * eta_11 * e1), e1]\n",
        "  else:\n",
        "    return [element]"
      ],
      "metadata": {
        "id": "fChm337yPjH2"
      },
      "execution_count": 13,
      "outputs": []
    },
    {
      "cell_type": "markdown",
      "source": [
        "### Разложение в случае $n=2$ <a class=\"anchor\" id=\"4.2\"></a>\n"
      ],
      "metadata": {
        "id": "ur7JBs2z6oyg"
      }
    },
    {
      "cell_type": "code",
      "source": [
        "def factorization_n2(element):\n",
        "  '''\n",
        "  Раскладывает элемент группы Липшица в произведение векторов в случае n = 2\n",
        "\n",
        "  :element: элемент группы Липшица\n",
        "  :return: list() с множителями в разложении\n",
        "  '''\n",
        "  eta_11 = e1 ** 2\n",
        "\n",
        "  u_dict = dict((i, element.value[i]) for i in range(len(element.value)))\n",
        "  element_dict = {v: u_dict[k] for k, v in blades_dict.items()}\n",
        "\n",
        "  if if_even(element) == True:\n",
        "    return [e1, element_dict[''] * eta_11 * e1 + element_dict['e12'] * e2]\n",
        "  else:\n",
        "    return [element]"
      ],
      "metadata": {
        "id": "JYpZePRs6sfN"
      },
      "execution_count": 14,
      "outputs": []
    },
    {
      "cell_type": "markdown",
      "source": [
        "### Разложение в случае $n=3$ <a class=\"anchor\" id=\"4.3\"></a>"
      ],
      "metadata": {
        "id": "BCpVB6q7G7l0"
      }
    },
    {
      "cell_type": "code",
      "source": [
        "def factorization_n3(element):\n",
        "  '''\n",
        "  Раскладывает элемент группы Липшица в произведение векторов в случае n = 3\n",
        "\n",
        "  :element: элемент группы Липшица\n",
        "  :return: list() с множителями в разложении\n",
        "  '''\n",
        "  eta_11, eta_22, eta_33 = e1 ** 2, e2 ** 2, e3 ** 2\n",
        "\n",
        "  u_dict = dict((i, element.value[i]) for i in range(len(element.value)))\n",
        "  element_dict = {v: u_dict[k] for k, v in blades_dict.items()}\n",
        "\n",
        "  if (element(1) - element) == 0:\n",
        "    return [element]\n",
        "\n",
        "  elif if_even(element) == True:\n",
        "    if element_dict['e12'] == 0:\n",
        "      return [e3, -element_dict['e13'] * e1 - element_dict['e23'] * e2 + element_dict[''] * eta_33 * e3]\n",
        "\n",
        "    elif element_dict['e13'] == 0:\n",
        "      return [e2, -element_dict['e12'] * e1 + element_dict[''] * eta_22 * e2 + element_dict['e23'] * e3]\n",
        "\n",
        "    elif element_dict['e23'] == 0:\n",
        "      return [e1, element_dict[''] * eta_11 * e1 + element_dict['e12'] * e2 + element_dict['e13'] * e3]\n",
        "\n",
        "    elif (element_dict['e13']) ** 2 * eta_11 + (element_dict['e23']) ** 2 * eta_22 != 0:\n",
        "      lambda_coef = (element_dict['e13']) ** 2 * eta_11 + (element_dict['e23']) ** 2 * eta_22\n",
        "      return [(1 / lambda_coef) * (element_dict['e13'] * e1 + element_dict['e23'] * e2), (element_dict[''] * element_dict['e13'] - element_dict['e12'] * element_dict['e23'] * eta_22) * e1 + (element_dict[''] * element_dict['e23'] + element_dict['e12'] * element_dict['e13'] * eta_11) * e2 + lambda_coef * e3]\n",
        "\n",
        "    elif (element_dict['e12']) ** 2 * eta_11 + (element_dict['e23']) ** 2 * eta_33 != 0:\n",
        "      lambda_coef = (element_dict['e12']) ** 2 * eta_11 + (element_dict['e23']) ** 2 * eta_33\n",
        "      return [(1 / lambda_coef) * (- element_dict['e12'] * e1 + element_dict['e23'] * e3), (- element_dict[''] * element_dict['e12'] - element_dict['e13'] * element_dict['e23'] * eta_33) * e1 - lambda_coef * e2 + (element_dict[''] * element_dict['e23'] - element_dict['e12'] * element_dict['e13'] * eta_11) * e3]\n",
        "\n",
        "    elif (element_dict['e12']) ** 2 * eta_22 + (element_dict['e13']) ** 2 * eta_33 != 0:\n",
        "      lambda_coef = (element_dict['e12']) ** 2 * eta_22 + (element_dict['e13']) ** 2 * eta_33\n",
        "      return [(1 / lambda_coef) * (element_dict['e12'] * e2 + element_dict['e13'] * e3), - lambda_coef * e1 + (element_dict[''] * element_dict['e12'] - element_dict['e13'] * element_dict['e23'] * eta_33) * e2 + (element_dict[''] * element_dict['e13'] + element_dict['e12'] * element_dict['e23'] * eta_22) * e3]\n",
        "\n",
        "    else:\n",
        "      return \"Упс, что-то пошло не так... Но мы уже чиним это!\"\n",
        "\n",
        "  else:\n",
        "    factors = [e1]\n",
        "    factors.extend(factorization_n3(eta_11 * e1 * element))\n",
        "    return factors"
      ],
      "metadata": {
        "id": "2a2RHj0QG6qi"
      },
      "execution_count": 15,
      "outputs": []
    },
    {
      "cell_type": "markdown",
      "source": [
        "### Общая функция для разложения <a class=\"anchor\" id=\"4.4\"></a>"
      ],
      "metadata": {
        "id": "eHCReLDfHX1E"
      }
    },
    {
      "cell_type": "code",
      "source": [
        "def factorization(element):\n",
        "  '''\n",
        "  Главная функция разложения элементов группы Липшица в произведение векторов\n",
        "\n",
        "  :element: элемент алгебры Клиффорда\n",
        "  :return: list() с множителями в разложении\n",
        "  '''\n",
        "  element = element + e1 - e1\n",
        "  in_LG = if_in_LG(element)\n",
        "\n",
        "  if in_LG == True:\n",
        "    if p + q == 1:\n",
        "      return factorization_n1(element)\n",
        "    if p + q == 2:\n",
        "      return factorization_n2(element)\n",
        "    if p + q == 3:\n",
        "      return factorization_n3(element)\n",
        "  \n",
        "  else:\n",
        "    return in_LG"
      ],
      "metadata": {
        "id": "TWAguL74HbHB"
      },
      "execution_count": 16,
      "outputs": []
    },
    {
      "cell_type": "markdown",
      "source": [
        "### Проверка на примерах <a class=\"anchor\" id=\"4.5\"></a>\n"
      ],
      "metadata": {
        "id": "WLrsPu1Cc1Iu"
      }
    },
    {
      "cell_type": "code",
      "source": [
        "factorization(1 + 2*e2)"
      ],
      "metadata": {
        "colab": {
          "base_uri": "https://localhost:8080/",
          "height": 36
        },
        "id": "QBeBfqHuHbae",
        "outputId": "2e940abb-ce2e-46c1-ff3d-6519ea05ee1b"
      },
      "execution_count": 17,
      "outputs": [
        {
          "output_type": "execute_result",
          "data": {
            "text/plain": [
              "'Элемент НЕ принадлежит группе Липшица: значение функции нормы элемента $$\\\\psi(T)=\\\\widetilde{T}T$$         не принадлежит подпространству ранга 0 или равно нулю.'"
            ],
            "application/vnd.google.colaboratory.intrinsic+json": {
              "type": "string"
            }
          },
          "metadata": {},
          "execution_count": 17
        }
      ]
    },
    {
      "cell_type": "code",
      "source": [
        "factorization(2)"
      ],
      "metadata": {
        "colab": {
          "base_uri": "https://localhost:8080/"
        },
        "id": "xEDl282ftCZC",
        "outputId": "87924b27-c00a-47aa-d20c-8d9cfb98123c"
      },
      "execution_count": 18,
      "outputs": [
        {
          "output_type": "execute_result",
          "data": {
            "text/plain": [
              "[(1^e3), -(2^e3)]"
            ]
          },
          "metadata": {},
          "execution_count": 18
        }
      ]
    },
    {
      "cell_type": "code",
      "source": [
        "factorization(2 + e13)"
      ],
      "metadata": {
        "colab": {
          "base_uri": "https://localhost:8080/"
        },
        "id": "iCc_RVNaxF1W",
        "outputId": "02776713-7207-46ed-9682-9f0d58c508f2"
      },
      "execution_count": 19,
      "outputs": [
        {
          "output_type": "execute_result",
          "data": {
            "text/plain": [
              "[(1^e3), -(1^e1) - (2^e3)]"
            ]
          },
          "metadata": {},
          "execution_count": 19
        }
      ]
    },
    {
      "cell_type": "code",
      "source": [
        "factorization(1 + 7*e13 - 4*e23)"
      ],
      "metadata": {
        "colab": {
          "base_uri": "https://localhost:8080/"
        },
        "id": "2XOmO5KyxO--",
        "outputId": "b4ac262f-6dc6-4f68-cee6-6a280a7104b1"
      },
      "execution_count": 20,
      "outputs": [
        {
          "output_type": "execute_result",
          "data": {
            "text/plain": [
              "[(1^e3), -(7^e1) + (4^e2) - (1^e3)]"
            ]
          },
          "metadata": {},
          "execution_count": 20
        }
      ]
    },
    {
      "cell_type": "code",
      "source": [
        "factorization(1 + 7*e3 - 4*e123)"
      ],
      "metadata": {
        "colab": {
          "base_uri": "https://localhost:8080/",
          "height": 36
        },
        "id": "uBjkAvMXxZuo",
        "outputId": "ba04ba9e-85f4-4b7a-99a7-e4014370b0e1"
      },
      "execution_count": 21,
      "outputs": [
        {
          "output_type": "execute_result",
          "data": {
            "text/plain": [
              "'Элемент НЕ принадлежит группе Липшица: значение функции нормы элемента $$\\\\psi(T)=\\\\widetilde{T}T$$         не принадлежит подпространству ранга 0 или равно нулю.'"
            ],
            "application/vnd.google.colaboratory.intrinsic+json": {
              "type": "string"
            }
          },
          "metadata": {},
          "execution_count": 21
        }
      ]
    },
    {
      "cell_type": "code",
      "source": [
        "factorization(1 + e123)"
      ],
      "metadata": {
        "colab": {
          "base_uri": "https://localhost:8080/",
          "height": 36
        },
        "id": "IYFYfYZCxhUs",
        "outputId": "3a8d32cc-c2a4-458a-c8ba-78031512c282"
      },
      "execution_count": 22,
      "outputs": [
        {
          "output_type": "execute_result",
          "data": {
            "text/plain": [
              "'Элемент НЕ принадлежит группе Липшица: значение функции нормы элемента $$\\\\psi(T)=\\\\widetilde{T}T$$         не принадлежит подпространству ранга 0 или равно нулю.'"
            ],
            "application/vnd.google.colaboratory.intrinsic+json": {
              "type": "string"
            }
          },
          "metadata": {},
          "execution_count": 22
        }
      ]
    },
    {
      "cell_type": "code",
      "source": [
        "factorization(e12 + e13 + e23)"
      ],
      "metadata": {
        "colab": {
          "base_uri": "https://localhost:8080/"
        },
        "id": "h2w-y51rxkVy",
        "outputId": "59e4d284-f9fa-48aa-90cf-703bd0609441"
      },
      "execution_count": 23,
      "outputs": [
        {
          "output_type": "execute_result",
          "data": {
            "text/plain": [
              "[(0.5^e1) + (0.5^e2), -(1^e1) + (1^e2) + (2^e3)]"
            ]
          },
          "metadata": {},
          "execution_count": 23
        }
      ]
    },
    {
      "cell_type": "code",
      "source": [
        "factorization(e1 + e2 - e3 - e123)"
      ],
      "metadata": {
        "colab": {
          "base_uri": "https://localhost:8080/",
          "height": 36
        },
        "id": "03UrokO5xuwx",
        "outputId": "385d8b30-8057-449e-e20a-fd2fab52c0f0"
      },
      "execution_count": 24,
      "outputs": [
        {
          "output_type": "execute_result",
          "data": {
            "text/plain": [
              "'Элемент НЕ принадлежит группе Липшица: значение функции нормы элемента $$\\\\psi(T)=\\\\widetilde{T}T$$         не принадлежит подпространству ранга 0 или равно нулю.'"
            ],
            "application/vnd.google.colaboratory.intrinsic+json": {
              "type": "string"
            }
          },
          "metadata": {},
          "execution_count": 24
        }
      ]
    },
    {
      "cell_type": "markdown",
      "source": [
        "## Визуализация результатов в случае $C\\!\\ell_{2,0}$ <a class=\"anchor\" id=\"5\"></a>"
      ],
      "metadata": {
        "id": "4O0dQ2-ud_6r"
      }
    },
    {
      "cell_type": "code",
      "source": [
        "def beautiful_print_vector(vector):\n",
        "  '''\n",
        "  Выводит вектор в удобном формате для красивой печати\n",
        "\n",
        "  :vector: вектор\n",
        "  :return: вектор в формате latex\n",
        "  '''\n",
        "  return sum([x * y for x, y in zip(list(vector.value)[1:p+q+1], list(o3d.mv()))])"
      ],
      "metadata": {
        "id": "-pKbbeS_X0E3"
      },
      "execution_count": 25,
      "outputs": []
    },
    {
      "cell_type": "code",
      "source": [
        "def find_max_min_coordinates(vectors):\n",
        "  '''\n",
        "  Находит максимальную и минимальную координату среди всех координат массива векторов\n",
        "\n",
        "  :vector: list() с векторами\n",
        "  :return: [минимальная координата, максимальная координата]\n",
        "  '''\n",
        "  all_coordinates = []\n",
        "  for vector in vectors:\n",
        "    all_coordinates.extend(list(dict((i, vector.value[i]) for i in range(len(vector.value))).values())[1:3])\n",
        "  min_coordinate, max_coordinate = min(all_coordinates), max(all_coordinates)\n",
        "  return [min_coordinate, max_coordinate]"
      ],
      "metadata": {
        "id": "CW1AL9FKfLYr"
      },
      "execution_count": 26,
      "outputs": []
    },
    {
      "cell_type": "code",
      "source": [
        "def get_vector_coordinates(vector):\n",
        "  '''\n",
        "  Находит координаты вектора\n",
        "\n",
        "  :vector: вектор (x1,x2)\n",
        "  :return: [0, x1], [0, x2]\n",
        "  '''\n",
        "  end_coordinates = list(dict((i, vector.value[i]) for i in range(len(vector.value))).values())[1:3]\n",
        "  return [[0, end_coordinates[0]], [0, end_coordinates[1]]]"
      ],
      "metadata": {
        "id": "pVBF9ehsfNbb"
      },
      "execution_count": 27,
      "outputs": []
    },
    {
      "cell_type": "code",
      "source": [
        "def find_all_reflections(vectors, start):\n",
        "  '''\n",
        "  Находит все отражения для заданного элемента группы Липшица\n",
        "\n",
        "  :vectors: list() с векторами\n",
        "  :start: вектор, на который действуем\n",
        "  :return: list() со всеми отражениями вектора start, включая start\n",
        "  '''\n",
        "  all_reflections = [start]\n",
        "  applied_to = start\n",
        "  vectors = list(reversed(vectors))\n",
        "\n",
        "  for i in range(len(vectors)):\n",
        "    applied_to = vectors[i].gradeInvol() * applied_to * vectors[i].inv()\n",
        "    all_reflections.append(applied_to)\n",
        "\n",
        "  return all_reflections"
      ],
      "metadata": {
        "id": "JWwM0S4NfPKz"
      },
      "execution_count": 28,
      "outputs": []
    },
    {
      "cell_type": "code",
      "source": [
        "def figure_reflections(vectors, start):\n",
        "  '''\n",
        "  Строит анимированный график отражений\n",
        "\n",
        "  :vectors: list() с векторами\n",
        "  :start: вектор, на который действуем\n",
        "  :return: анимированный график отражений\n",
        "  '''\n",
        "\n",
        "  all_reflections = find_all_reflections(vectors, start)\n",
        "  all_coordinates = []\n",
        "  for reflection in all_reflections:\n",
        "    all_coordinates.append(get_vector_coordinates(reflection))\n",
        "  \n",
        "  fig_frames = []\n",
        "  for i in range(len(all_coordinates)):\n",
        "    fig_frames.append(go.Frame(data=[go.Scatter(x=all_coordinates[i][0], y=all_coordinates[i][1], marker= dict(size=10,symbol= \"arrow-bar-up\", angleref=\"previous\"))]))\n",
        "  \n",
        "  if len(fig_frames) != 2:\n",
        "    plot_title = f\"Композиция {len(fig_frames)-1} отражений\"\n",
        "  else:\n",
        "    plot_title = \"Отражение\"\n",
        "  \n",
        "  data_to_show = [go.Scatter(x=all_coordinates[0][0], y=all_coordinates[0][1], marker= dict(size=10,symbol= \"arrow-bar-up\", angleref=\"previous\"), line=dict(width=3, color=\"#ff6f69\"), name=\"Отражаемый вектор\")]\n",
        "\n",
        "  vectors_coordinates = []\n",
        "  hyper_coordinates = []\n",
        "  for vector in vectors:\n",
        "    vector_c = get_vector_coordinates(vector)\n",
        "    vectors_coordinates.append(vector_c)\n",
        "    if vector_c[0][1] == 0:\n",
        "      hyper_coordinates.append([[-100, 100], [0, 0]])\n",
        "    elif vector_c[1][1] == 0:\n",
        "      hyper_coordinates.append([[0, 0], [-100, 100]])\n",
        "    else:\n",
        "      hyper_coordinates.append([[(-vector_c[1][1] * 100)/vector_c[0][1], (vector_c[1][1] * 100)/vector_c[0][1]], [100, -100]])\n",
        "\n",
        "  \n",
        "  colors = ['#32a852', '#3261a8']\n",
        "\n",
        "  for i in range(len(vectors_coordinates)):\n",
        "    data_to_show.append(go.Scatter(x=vectors_coordinates[i][0], y=vectors_coordinates[i][1], marker = dict(size=8,symbol= \"arrow-bar-up\", angleref=\"previous\"), line=dict(color=colors[i], width=1), name=f\"Вектор\"))\n",
        "    data_to_show.append(go.Scatter(x=hyper_coordinates[i][0], y=hyper_coordinates[i][1], line=dict(color=colors[i], width=1), marker=dict(symbol=\"asterisk\"), name=f\"Гиперплоскость\"))\n",
        "\n",
        "\n",
        "  fig = go.Figure(\n",
        "    data=data_to_show,\n",
        "    layout=go.Layout(\n",
        "        xaxis=dict(range=[find_max_min_coordinates(all_reflections)[0] - 1, find_max_min_coordinates(all_reflections)[1] + 1]),\n",
        "        yaxis=dict(range=[find_max_min_coordinates(all_reflections)[0] - 1, find_max_min_coordinates(all_reflections)[1] + 1]),\n",
        "        autosize=False,\n",
        "        width=700,\n",
        "        height=600,\n",
        "        title=plot_title,\n",
        "        updatemenus=[dict(\n",
        "            type=\"buttons\",\n",
        "            buttons=[dict(label=\"Показать\",\n",
        "                          method=\"animate\",\n",
        "                          args=[None, {\"frame\": {\"duration\": 2500},\n",
        "                                                              \"fromcurrent\": True, \n",
        "                                                              \"transition\": {\"duration\": 0}}]),\n",
        "                     {\n",
        "                \"args\": [[None], {\"frame\": {\"duration\": 0, \"redraw\": False},\n",
        "                                  \"mode\": \"immediate\",\n",
        "                                  \"transition\": {\"duration\": 0}}],\n",
        "                \"label\": \"Пауза\",\n",
        "                \"method\": \"animate\"\n",
        "            }])]\n",
        "    ),\n",
        "    frames=fig_frames\n",
        ")\n",
        "   \n",
        "  fig.update_yaxes(\n",
        "    scaleanchor=\"x\",\n",
        "    scaleratio=1,\n",
        "  )\n",
        "\n",
        "  return fig"
      ],
      "metadata": {
        "id": "D3WvAvRvfRN1"
      },
      "execution_count": 29,
      "outputs": []
    },
    {
      "cell_type": "code",
      "source": [
        "def figure_rotation(element, start):\n",
        "  '''\n",
        "  Строит график поворота\n",
        "\n",
        "  :element: элемент группы Липшица\n",
        "  :start: вектор, на который действуем\n",
        "  :return: график поворота\n",
        "  '''\n",
        "\n",
        "  start_coordinates = get_vector_coordinates(start)\n",
        "\n",
        "  end = element.gradeInvol() * start * element.inv()\n",
        "  end_coordinates = get_vector_coordinates(end)\n",
        "\n",
        "  fig = go.Figure(\n",
        "    data=[go.Scatter(x=start_coordinates[0], y=start_coordinates[1], marker= dict(size=10,symbol= \"arrow-bar-up\", angleref=\"previous\"), line=dict(width=3, color=\"#ff6f69\"), name=\"Исходный вектор\"), \n",
        "          go.Scatter(x=end_coordinates[0], y=end_coordinates[1], marker= dict(size=10,symbol= \"arrow-bar-up\", angleref=\"previous\"), line=dict(width=3, color='#2ab7ca'), name=\"Результат поворота\")], \n",
        "    layout=go.Layout(\n",
        "        xaxis=dict(range=[find_max_min_coordinates([start, end])[0] - 2, find_max_min_coordinates([start, end])[1] + 2]),\n",
        "        yaxis=dict(range=[find_max_min_coordinates([start, end])[0] - 2, find_max_min_coordinates([start, end])[1] + 2]),\n",
        "        autosize=False,\n",
        "        width=600,\n",
        "        height=600,\n",
        "        title=\"Поворот\"))\n",
        "  \n",
        "  return fig"
      ],
      "metadata": {
        "id": "G99JJWspgTy2"
      },
      "execution_count": 30,
      "outputs": []
    },
    {
      "cell_type": "markdown",
      "source": [
        "Проверка на примере"
      ],
      "metadata": {
        "id": "WonnmTfVyXsk"
      }
    },
    {
      "cell_type": "markdown",
      "source": [
        "Рассматриваем элемент Группы Липшица $T= e +2e_{12}=e_1(e_1+2e_2)$ в случае $C\\!\\ell_{2,0}$. Действуем скрученным присоединённым действием на вектор $e_1-e_2$.\n"
      ],
      "metadata": {
        "id": "jgU8vClwyxdH"
      }
    },
    {
      "cell_type": "code",
      "source": [
        "figure_reflections(factorization(1 + 2*e12), e1 - e2)"
      ],
      "metadata": {
        "colab": {
          "base_uri": "https://localhost:8080/",
          "height": 617
        },
        "id": "Ok87JVOXgaqb",
        "outputId": "2cbbbf55-adae-4f8d-d79a-777b21b2f058"
      },
      "execution_count": 31,
      "outputs": [
        {
          "output_type": "display_data",
          "data": {
            "text/html": [
              "<html>\n",
              "<head><meta charset=\"utf-8\" /></head>\n",
              "<body>\n",
              "    <div>            <script src=\"https://cdnjs.cloudflare.com/ajax/libs/mathjax/2.7.5/MathJax.js?config=TeX-AMS-MML_SVG\"></script><script type=\"text/javascript\">if (window.MathJax && window.MathJax.Hub && window.MathJax.Hub.Config) {window.MathJax.Hub.Config({SVG: {font: \"STIX-Web\"}});}</script>                <script type=\"text/javascript\">window.PlotlyConfig = {MathJaxConfig: 'local'};</script>\n",
              "        <script src=\"https://cdn.plot.ly/plotly-2.18.2.min.js\"></script>                <div id=\"a7a0eeff-3979-4c63-af9a-6d344f6d1ea9\" class=\"plotly-graph-div\" style=\"height:600px; width:700px;\"></div>            <script type=\"text/javascript\">                                    window.PLOTLYENV=window.PLOTLYENV || {};                                    if (document.getElementById(\"a7a0eeff-3979-4c63-af9a-6d344f6d1ea9\")) {                    Plotly.newPlot(                        \"a7a0eeff-3979-4c63-af9a-6d344f6d1ea9\",                        [{\"line\":{\"color\":\"#ff6f69\",\"width\":3},\"marker\":{\"angleref\":\"previous\",\"size\":10,\"symbol\":\"arrow-bar-up\"},\"name\":\"\\u041e\\u0442\\u0440\\u0430\\u0436\\u0430\\u0435\\u043c\\u044b\\u0439 \\u0432\\u0435\\u043a\\u0442\\u043e\\u0440\",\"x\":[0,1],\"y\":[0,-1],\"type\":\"scatter\"},{\"line\":{\"color\":\"#32a852\",\"width\":1},\"marker\":{\"angleref\":\"previous\",\"size\":8,\"symbol\":\"arrow-bar-up\"},\"name\":\"\\u0412\\u0435\\u043a\\u0442\\u043e\\u0440\",\"x\":[0,0],\"y\":[0,1],\"type\":\"scatter\"},{\"line\":{\"color\":\"#32a852\",\"width\":1},\"marker\":{\"symbol\":\"asterisk\"},\"name\":\"\\u0413\\u0438\\u043f\\u0435\\u0440\\u043f\\u043b\\u043e\\u0441\\u043a\\u043e\\u0441\\u0442\\u044c\",\"x\":[-100,100],\"y\":[0,0],\"type\":\"scatter\"},{\"line\":{\"color\":\"#3261a8\",\"width\":1},\"marker\":{\"angleref\":\"previous\",\"size\":8,\"symbol\":\"arrow-bar-up\"},\"name\":\"\\u0412\\u0435\\u043a\\u0442\\u043e\\u0440\",\"x\":[0,-2],\"y\":[0,1],\"type\":\"scatter\"},{\"line\":{\"color\":\"#3261a8\",\"width\":1},\"marker\":{\"symbol\":\"asterisk\"},\"name\":\"\\u0413\\u0438\\u043f\\u0435\\u0440\\u043f\\u043b\\u043e\\u0441\\u043a\\u043e\\u0441\\u0442\\u044c\",\"x\":[50.0,-50.0],\"y\":[100,-100],\"type\":\"scatter\"}],                        {\"autosize\":false,\"height\":600,\"title\":{\"text\":\"\\u041a\\u043e\\u043c\\u043f\\u043e\\u0437\\u0438\\u0446\\u0438\\u044f 2 \\u043e\\u0442\\u0440\\u0430\\u0436\\u0435\\u043d\\u0438\\u0439\"},\"updatemenus\":[{\"buttons\":[{\"args\":[null,{\"frame\":{\"duration\":2500},\"fromcurrent\":true,\"transition\":{\"duration\":0}}],\"label\":\"\\u041f\\u043e\\u043a\\u0430\\u0437\\u0430\\u0442\\u044c\",\"method\":\"animate\"},{\"args\":[[null],{\"frame\":{\"duration\":0,\"redraw\":false},\"mode\":\"immediate\",\"transition\":{\"duration\":0}}],\"label\":\"\\u041f\\u0430\\u0443\\u0437\\u0430\",\"method\":\"animate\"}],\"type\":\"buttons\"}],\"width\":700,\"xaxis\":{\"range\":[-2.4000000000000004,2]},\"yaxis\":{\"range\":[-2.4000000000000004,2],\"scaleanchor\":\"x\",\"scaleratio\":1},\"template\":{\"data\":{\"histogram2dcontour\":[{\"type\":\"histogram2dcontour\",\"colorbar\":{\"outlinewidth\":0,\"ticks\":\"\"},\"colorscale\":[[0.0,\"#0d0887\"],[0.1111111111111111,\"#46039f\"],[0.2222222222222222,\"#7201a8\"],[0.3333333333333333,\"#9c179e\"],[0.4444444444444444,\"#bd3786\"],[0.5555555555555556,\"#d8576b\"],[0.6666666666666666,\"#ed7953\"],[0.7777777777777778,\"#fb9f3a\"],[0.8888888888888888,\"#fdca26\"],[1.0,\"#f0f921\"]]}],\"choropleth\":[{\"type\":\"choropleth\",\"colorbar\":{\"outlinewidth\":0,\"ticks\":\"\"}}],\"histogram2d\":[{\"type\":\"histogram2d\",\"colorbar\":{\"outlinewidth\":0,\"ticks\":\"\"},\"colorscale\":[[0.0,\"#0d0887\"],[0.1111111111111111,\"#46039f\"],[0.2222222222222222,\"#7201a8\"],[0.3333333333333333,\"#9c179e\"],[0.4444444444444444,\"#bd3786\"],[0.5555555555555556,\"#d8576b\"],[0.6666666666666666,\"#ed7953\"],[0.7777777777777778,\"#fb9f3a\"],[0.8888888888888888,\"#fdca26\"],[1.0,\"#f0f921\"]]}],\"heatmap\":[{\"type\":\"heatmap\",\"colorbar\":{\"outlinewidth\":0,\"ticks\":\"\"},\"colorscale\":[[0.0,\"#0d0887\"],[0.1111111111111111,\"#46039f\"],[0.2222222222222222,\"#7201a8\"],[0.3333333333333333,\"#9c179e\"],[0.4444444444444444,\"#bd3786\"],[0.5555555555555556,\"#d8576b\"],[0.6666666666666666,\"#ed7953\"],[0.7777777777777778,\"#fb9f3a\"],[0.8888888888888888,\"#fdca26\"],[1.0,\"#f0f921\"]]}],\"heatmapgl\":[{\"type\":\"heatmapgl\",\"colorbar\":{\"outlinewidth\":0,\"ticks\":\"\"},\"colorscale\":[[0.0,\"#0d0887\"],[0.1111111111111111,\"#46039f\"],[0.2222222222222222,\"#7201a8\"],[0.3333333333333333,\"#9c179e\"],[0.4444444444444444,\"#bd3786\"],[0.5555555555555556,\"#d8576b\"],[0.6666666666666666,\"#ed7953\"],[0.7777777777777778,\"#fb9f3a\"],[0.8888888888888888,\"#fdca26\"],[1.0,\"#f0f921\"]]}],\"contourcarpet\":[{\"type\":\"contourcarpet\",\"colorbar\":{\"outlinewidth\":0,\"ticks\":\"\"}}],\"contour\":[{\"type\":\"contour\",\"colorbar\":{\"outlinewidth\":0,\"ticks\":\"\"},\"colorscale\":[[0.0,\"#0d0887\"],[0.1111111111111111,\"#46039f\"],[0.2222222222222222,\"#7201a8\"],[0.3333333333333333,\"#9c179e\"],[0.4444444444444444,\"#bd3786\"],[0.5555555555555556,\"#d8576b\"],[0.6666666666666666,\"#ed7953\"],[0.7777777777777778,\"#fb9f3a\"],[0.8888888888888888,\"#fdca26\"],[1.0,\"#f0f921\"]]}],\"surface\":[{\"type\":\"surface\",\"colorbar\":{\"outlinewidth\":0,\"ticks\":\"\"},\"colorscale\":[[0.0,\"#0d0887\"],[0.1111111111111111,\"#46039f\"],[0.2222222222222222,\"#7201a8\"],[0.3333333333333333,\"#9c179e\"],[0.4444444444444444,\"#bd3786\"],[0.5555555555555556,\"#d8576b\"],[0.6666666666666666,\"#ed7953\"],[0.7777777777777778,\"#fb9f3a\"],[0.8888888888888888,\"#fdca26\"],[1.0,\"#f0f921\"]]}],\"mesh3d\":[{\"type\":\"mesh3d\",\"colorbar\":{\"outlinewidth\":0,\"ticks\":\"\"}}],\"scatter\":[{\"fillpattern\":{\"fillmode\":\"overlay\",\"size\":10,\"solidity\":0.2},\"type\":\"scatter\"}],\"parcoords\":[{\"type\":\"parcoords\",\"line\":{\"colorbar\":{\"outlinewidth\":0,\"ticks\":\"\"}}}],\"scatterpolargl\":[{\"type\":\"scatterpolargl\",\"marker\":{\"colorbar\":{\"outlinewidth\":0,\"ticks\":\"\"}}}],\"bar\":[{\"error_x\":{\"color\":\"#2a3f5f\"},\"error_y\":{\"color\":\"#2a3f5f\"},\"marker\":{\"line\":{\"color\":\"#E5ECF6\",\"width\":0.5},\"pattern\":{\"fillmode\":\"overlay\",\"size\":10,\"solidity\":0.2}},\"type\":\"bar\"}],\"scattergeo\":[{\"type\":\"scattergeo\",\"marker\":{\"colorbar\":{\"outlinewidth\":0,\"ticks\":\"\"}}}],\"scatterpolar\":[{\"type\":\"scatterpolar\",\"marker\":{\"colorbar\":{\"outlinewidth\":0,\"ticks\":\"\"}}}],\"histogram\":[{\"marker\":{\"pattern\":{\"fillmode\":\"overlay\",\"size\":10,\"solidity\":0.2}},\"type\":\"histogram\"}],\"scattergl\":[{\"type\":\"scattergl\",\"marker\":{\"colorbar\":{\"outlinewidth\":0,\"ticks\":\"\"}}}],\"scatter3d\":[{\"type\":\"scatter3d\",\"line\":{\"colorbar\":{\"outlinewidth\":0,\"ticks\":\"\"}},\"marker\":{\"colorbar\":{\"outlinewidth\":0,\"ticks\":\"\"}}}],\"scattermapbox\":[{\"type\":\"scattermapbox\",\"marker\":{\"colorbar\":{\"outlinewidth\":0,\"ticks\":\"\"}}}],\"scatterternary\":[{\"type\":\"scatterternary\",\"marker\":{\"colorbar\":{\"outlinewidth\":0,\"ticks\":\"\"}}}],\"scattercarpet\":[{\"type\":\"scattercarpet\",\"marker\":{\"colorbar\":{\"outlinewidth\":0,\"ticks\":\"\"}}}],\"carpet\":[{\"aaxis\":{\"endlinecolor\":\"#2a3f5f\",\"gridcolor\":\"white\",\"linecolor\":\"white\",\"minorgridcolor\":\"white\",\"startlinecolor\":\"#2a3f5f\"},\"baxis\":{\"endlinecolor\":\"#2a3f5f\",\"gridcolor\":\"white\",\"linecolor\":\"white\",\"minorgridcolor\":\"white\",\"startlinecolor\":\"#2a3f5f\"},\"type\":\"carpet\"}],\"table\":[{\"cells\":{\"fill\":{\"color\":\"#EBF0F8\"},\"line\":{\"color\":\"white\"}},\"header\":{\"fill\":{\"color\":\"#C8D4E3\"},\"line\":{\"color\":\"white\"}},\"type\":\"table\"}],\"barpolar\":[{\"marker\":{\"line\":{\"color\":\"#E5ECF6\",\"width\":0.5},\"pattern\":{\"fillmode\":\"overlay\",\"size\":10,\"solidity\":0.2}},\"type\":\"barpolar\"}],\"pie\":[{\"automargin\":true,\"type\":\"pie\"}]},\"layout\":{\"autotypenumbers\":\"strict\",\"colorway\":[\"#636efa\",\"#EF553B\",\"#00cc96\",\"#ab63fa\",\"#FFA15A\",\"#19d3f3\",\"#FF6692\",\"#B6E880\",\"#FF97FF\",\"#FECB52\"],\"font\":{\"color\":\"#2a3f5f\"},\"hovermode\":\"closest\",\"hoverlabel\":{\"align\":\"left\"},\"paper_bgcolor\":\"white\",\"plot_bgcolor\":\"#E5ECF6\",\"polar\":{\"bgcolor\":\"#E5ECF6\",\"angularaxis\":{\"gridcolor\":\"white\",\"linecolor\":\"white\",\"ticks\":\"\"},\"radialaxis\":{\"gridcolor\":\"white\",\"linecolor\":\"white\",\"ticks\":\"\"}},\"ternary\":{\"bgcolor\":\"#E5ECF6\",\"aaxis\":{\"gridcolor\":\"white\",\"linecolor\":\"white\",\"ticks\":\"\"},\"baxis\":{\"gridcolor\":\"white\",\"linecolor\":\"white\",\"ticks\":\"\"},\"caxis\":{\"gridcolor\":\"white\",\"linecolor\":\"white\",\"ticks\":\"\"}},\"coloraxis\":{\"colorbar\":{\"outlinewidth\":0,\"ticks\":\"\"}},\"colorscale\":{\"sequential\":[[0.0,\"#0d0887\"],[0.1111111111111111,\"#46039f\"],[0.2222222222222222,\"#7201a8\"],[0.3333333333333333,\"#9c179e\"],[0.4444444444444444,\"#bd3786\"],[0.5555555555555556,\"#d8576b\"],[0.6666666666666666,\"#ed7953\"],[0.7777777777777778,\"#fb9f3a\"],[0.8888888888888888,\"#fdca26\"],[1.0,\"#f0f921\"]],\"sequentialminus\":[[0.0,\"#0d0887\"],[0.1111111111111111,\"#46039f\"],[0.2222222222222222,\"#7201a8\"],[0.3333333333333333,\"#9c179e\"],[0.4444444444444444,\"#bd3786\"],[0.5555555555555556,\"#d8576b\"],[0.6666666666666666,\"#ed7953\"],[0.7777777777777778,\"#fb9f3a\"],[0.8888888888888888,\"#fdca26\"],[1.0,\"#f0f921\"]],\"diverging\":[[0,\"#8e0152\"],[0.1,\"#c51b7d\"],[0.2,\"#de77ae\"],[0.3,\"#f1b6da\"],[0.4,\"#fde0ef\"],[0.5,\"#f7f7f7\"],[0.6,\"#e6f5d0\"],[0.7,\"#b8e186\"],[0.8,\"#7fbc41\"],[0.9,\"#4d9221\"],[1,\"#276419\"]]},\"xaxis\":{\"gridcolor\":\"white\",\"linecolor\":\"white\",\"ticks\":\"\",\"title\":{\"standoff\":15},\"zerolinecolor\":\"white\",\"automargin\":true,\"zerolinewidth\":2},\"yaxis\":{\"gridcolor\":\"white\",\"linecolor\":\"white\",\"ticks\":\"\",\"title\":{\"standoff\":15},\"zerolinecolor\":\"white\",\"automargin\":true,\"zerolinewidth\":2},\"scene\":{\"xaxis\":{\"backgroundcolor\":\"#E5ECF6\",\"gridcolor\":\"white\",\"linecolor\":\"white\",\"showbackground\":true,\"ticks\":\"\",\"zerolinecolor\":\"white\",\"gridwidth\":2},\"yaxis\":{\"backgroundcolor\":\"#E5ECF6\",\"gridcolor\":\"white\",\"linecolor\":\"white\",\"showbackground\":true,\"ticks\":\"\",\"zerolinecolor\":\"white\",\"gridwidth\":2},\"zaxis\":{\"backgroundcolor\":\"#E5ECF6\",\"gridcolor\":\"white\",\"linecolor\":\"white\",\"showbackground\":true,\"ticks\":\"\",\"zerolinecolor\":\"white\",\"gridwidth\":2}},\"shapedefaults\":{\"line\":{\"color\":\"#2a3f5f\"}},\"annotationdefaults\":{\"arrowcolor\":\"#2a3f5f\",\"arrowhead\":0,\"arrowwidth\":1},\"geo\":{\"bgcolor\":\"white\",\"landcolor\":\"#E5ECF6\",\"subunitcolor\":\"white\",\"showland\":true,\"showlakes\":true,\"lakecolor\":\"white\"},\"title\":{\"x\":0.05},\"mapbox\":{\"style\":\"light\"}}}},                        {\"responsive\": true}                    ).then(function(){\n",
              "                            Plotly.addFrames('a7a0eeff-3979-4c63-af9a-6d344f6d1ea9', [{\"data\":[{\"marker\":{\"angleref\":\"previous\",\"size\":10,\"symbol\":\"arrow-bar-up\"},\"x\":[0,1],\"y\":[0,-1],\"type\":\"scatter\"}]},{\"data\":[{\"marker\":{\"angleref\":\"previous\",\"size\":10,\"symbol\":\"arrow-bar-up\"},\"x\":[0,-1.4000000000000001],\"y\":[0,0.20000000000000007],\"type\":\"scatter\"}]},{\"data\":[{\"marker\":{\"angleref\":\"previous\",\"size\":10,\"symbol\":\"arrow-bar-up\"},\"x\":[0,-1.4000000000000001],\"y\":[0,-0.20000000000000007],\"type\":\"scatter\"}]}]);\n",
              "                        }).then(function(){\n",
              "                            \n",
              "var gd = document.getElementById('a7a0eeff-3979-4c63-af9a-6d344f6d1ea9');\n",
              "var x = new MutationObserver(function (mutations, observer) {{\n",
              "        var display = window.getComputedStyle(gd).display;\n",
              "        if (!display || display === 'none') {{\n",
              "            console.log([gd, 'removed!']);\n",
              "            Plotly.purge(gd);\n",
              "            observer.disconnect();\n",
              "        }}\n",
              "}});\n",
              "\n",
              "// Listen for the removal of the full notebook cells\n",
              "var notebookContainer = gd.closest('#notebook-container');\n",
              "if (notebookContainer) {{\n",
              "    x.observe(notebookContainer, {childList: true});\n",
              "}}\n",
              "\n",
              "// Listen for the clearing of the current output cell\n",
              "var outputEl = gd.closest('.output');\n",
              "if (outputEl) {{\n",
              "    x.observe(outputEl, {childList: true});\n",
              "}}\n",
              "\n",
              "                        })                };                            </script>        </div>\n",
              "</body>\n",
              "</html>"
            ]
          },
          "metadata": {}
        }
      ]
    },
    {
      "cell_type": "code",
      "source": [
        "figure_rotation(1 + 2*e12, e1 - e2)"
      ],
      "metadata": {
        "colab": {
          "base_uri": "https://localhost:8080/",
          "height": 617
        },
        "id": "BE6xiwsHycAw",
        "outputId": "1bcbc280-643b-4eaa-c256-cd35af0087f7"
      },
      "execution_count": 32,
      "outputs": [
        {
          "output_type": "display_data",
          "data": {
            "text/html": [
              "<html>\n",
              "<head><meta charset=\"utf-8\" /></head>\n",
              "<body>\n",
              "    <div>            <script src=\"https://cdnjs.cloudflare.com/ajax/libs/mathjax/2.7.5/MathJax.js?config=TeX-AMS-MML_SVG\"></script><script type=\"text/javascript\">if (window.MathJax && window.MathJax.Hub && window.MathJax.Hub.Config) {window.MathJax.Hub.Config({SVG: {font: \"STIX-Web\"}});}</script>                <script type=\"text/javascript\">window.PlotlyConfig = {MathJaxConfig: 'local'};</script>\n",
              "        <script src=\"https://cdn.plot.ly/plotly-2.18.2.min.js\"></script>                <div id=\"c28731e5-3693-4f33-992e-6473e9a2ce24\" class=\"plotly-graph-div\" style=\"height:600px; width:600px;\"></div>            <script type=\"text/javascript\">                                    window.PLOTLYENV=window.PLOTLYENV || {};                                    if (document.getElementById(\"c28731e5-3693-4f33-992e-6473e9a2ce24\")) {                    Plotly.newPlot(                        \"c28731e5-3693-4f33-992e-6473e9a2ce24\",                        [{\"line\":{\"color\":\"#ff6f69\",\"width\":3},\"marker\":{\"angleref\":\"previous\",\"size\":10,\"symbol\":\"arrow-bar-up\"},\"name\":\"\\u0418\\u0441\\u0445\\u043e\\u0434\\u043d\\u044b\\u0439 \\u0432\\u0435\\u043a\\u0442\\u043e\\u0440\",\"x\":[0,1],\"y\":[0,-1],\"type\":\"scatter\"},{\"line\":{\"color\":\"#2ab7ca\",\"width\":3},\"marker\":{\"angleref\":\"previous\",\"size\":10,\"symbol\":\"arrow-bar-up\"},\"name\":\"\\u0420\\u0435\\u0437\\u0443\\u043b\\u044c\\u0442\\u0430\\u0442 \\u043f\\u043e\\u0432\\u043e\\u0440\\u043e\\u0442\\u0430\",\"x\":[0,-1.4000000000000001],\"y\":[0,-0.20000000000000007],\"type\":\"scatter\"}],                        {\"autosize\":false,\"height\":600,\"title\":{\"text\":\"\\u041f\\u043e\\u0432\\u043e\\u0440\\u043e\\u0442\"},\"width\":600,\"xaxis\":{\"range\":[-3.4000000000000004,3]},\"yaxis\":{\"range\":[-3.4000000000000004,3]},\"template\":{\"data\":{\"histogram2dcontour\":[{\"type\":\"histogram2dcontour\",\"colorbar\":{\"outlinewidth\":0,\"ticks\":\"\"},\"colorscale\":[[0.0,\"#0d0887\"],[0.1111111111111111,\"#46039f\"],[0.2222222222222222,\"#7201a8\"],[0.3333333333333333,\"#9c179e\"],[0.4444444444444444,\"#bd3786\"],[0.5555555555555556,\"#d8576b\"],[0.6666666666666666,\"#ed7953\"],[0.7777777777777778,\"#fb9f3a\"],[0.8888888888888888,\"#fdca26\"],[1.0,\"#f0f921\"]]}],\"choropleth\":[{\"type\":\"choropleth\",\"colorbar\":{\"outlinewidth\":0,\"ticks\":\"\"}}],\"histogram2d\":[{\"type\":\"histogram2d\",\"colorbar\":{\"outlinewidth\":0,\"ticks\":\"\"},\"colorscale\":[[0.0,\"#0d0887\"],[0.1111111111111111,\"#46039f\"],[0.2222222222222222,\"#7201a8\"],[0.3333333333333333,\"#9c179e\"],[0.4444444444444444,\"#bd3786\"],[0.5555555555555556,\"#d8576b\"],[0.6666666666666666,\"#ed7953\"],[0.7777777777777778,\"#fb9f3a\"],[0.8888888888888888,\"#fdca26\"],[1.0,\"#f0f921\"]]}],\"heatmap\":[{\"type\":\"heatmap\",\"colorbar\":{\"outlinewidth\":0,\"ticks\":\"\"},\"colorscale\":[[0.0,\"#0d0887\"],[0.1111111111111111,\"#46039f\"],[0.2222222222222222,\"#7201a8\"],[0.3333333333333333,\"#9c179e\"],[0.4444444444444444,\"#bd3786\"],[0.5555555555555556,\"#d8576b\"],[0.6666666666666666,\"#ed7953\"],[0.7777777777777778,\"#fb9f3a\"],[0.8888888888888888,\"#fdca26\"],[1.0,\"#f0f921\"]]}],\"heatmapgl\":[{\"type\":\"heatmapgl\",\"colorbar\":{\"outlinewidth\":0,\"ticks\":\"\"},\"colorscale\":[[0.0,\"#0d0887\"],[0.1111111111111111,\"#46039f\"],[0.2222222222222222,\"#7201a8\"],[0.3333333333333333,\"#9c179e\"],[0.4444444444444444,\"#bd3786\"],[0.5555555555555556,\"#d8576b\"],[0.6666666666666666,\"#ed7953\"],[0.7777777777777778,\"#fb9f3a\"],[0.8888888888888888,\"#fdca26\"],[1.0,\"#f0f921\"]]}],\"contourcarpet\":[{\"type\":\"contourcarpet\",\"colorbar\":{\"outlinewidth\":0,\"ticks\":\"\"}}],\"contour\":[{\"type\":\"contour\",\"colorbar\":{\"outlinewidth\":0,\"ticks\":\"\"},\"colorscale\":[[0.0,\"#0d0887\"],[0.1111111111111111,\"#46039f\"],[0.2222222222222222,\"#7201a8\"],[0.3333333333333333,\"#9c179e\"],[0.4444444444444444,\"#bd3786\"],[0.5555555555555556,\"#d8576b\"],[0.6666666666666666,\"#ed7953\"],[0.7777777777777778,\"#fb9f3a\"],[0.8888888888888888,\"#fdca26\"],[1.0,\"#f0f921\"]]}],\"surface\":[{\"type\":\"surface\",\"colorbar\":{\"outlinewidth\":0,\"ticks\":\"\"},\"colorscale\":[[0.0,\"#0d0887\"],[0.1111111111111111,\"#46039f\"],[0.2222222222222222,\"#7201a8\"],[0.3333333333333333,\"#9c179e\"],[0.4444444444444444,\"#bd3786\"],[0.5555555555555556,\"#d8576b\"],[0.6666666666666666,\"#ed7953\"],[0.7777777777777778,\"#fb9f3a\"],[0.8888888888888888,\"#fdca26\"],[1.0,\"#f0f921\"]]}],\"mesh3d\":[{\"type\":\"mesh3d\",\"colorbar\":{\"outlinewidth\":0,\"ticks\":\"\"}}],\"scatter\":[{\"fillpattern\":{\"fillmode\":\"overlay\",\"size\":10,\"solidity\":0.2},\"type\":\"scatter\"}],\"parcoords\":[{\"type\":\"parcoords\",\"line\":{\"colorbar\":{\"outlinewidth\":0,\"ticks\":\"\"}}}],\"scatterpolargl\":[{\"type\":\"scatterpolargl\",\"marker\":{\"colorbar\":{\"outlinewidth\":0,\"ticks\":\"\"}}}],\"bar\":[{\"error_x\":{\"color\":\"#2a3f5f\"},\"error_y\":{\"color\":\"#2a3f5f\"},\"marker\":{\"line\":{\"color\":\"#E5ECF6\",\"width\":0.5},\"pattern\":{\"fillmode\":\"overlay\",\"size\":10,\"solidity\":0.2}},\"type\":\"bar\"}],\"scattergeo\":[{\"type\":\"scattergeo\",\"marker\":{\"colorbar\":{\"outlinewidth\":0,\"ticks\":\"\"}}}],\"scatterpolar\":[{\"type\":\"scatterpolar\",\"marker\":{\"colorbar\":{\"outlinewidth\":0,\"ticks\":\"\"}}}],\"histogram\":[{\"marker\":{\"pattern\":{\"fillmode\":\"overlay\",\"size\":10,\"solidity\":0.2}},\"type\":\"histogram\"}],\"scattergl\":[{\"type\":\"scattergl\",\"marker\":{\"colorbar\":{\"outlinewidth\":0,\"ticks\":\"\"}}}],\"scatter3d\":[{\"type\":\"scatter3d\",\"line\":{\"colorbar\":{\"outlinewidth\":0,\"ticks\":\"\"}},\"marker\":{\"colorbar\":{\"outlinewidth\":0,\"ticks\":\"\"}}}],\"scattermapbox\":[{\"type\":\"scattermapbox\",\"marker\":{\"colorbar\":{\"outlinewidth\":0,\"ticks\":\"\"}}}],\"scatterternary\":[{\"type\":\"scatterternary\",\"marker\":{\"colorbar\":{\"outlinewidth\":0,\"ticks\":\"\"}}}],\"scattercarpet\":[{\"type\":\"scattercarpet\",\"marker\":{\"colorbar\":{\"outlinewidth\":0,\"ticks\":\"\"}}}],\"carpet\":[{\"aaxis\":{\"endlinecolor\":\"#2a3f5f\",\"gridcolor\":\"white\",\"linecolor\":\"white\",\"minorgridcolor\":\"white\",\"startlinecolor\":\"#2a3f5f\"},\"baxis\":{\"endlinecolor\":\"#2a3f5f\",\"gridcolor\":\"white\",\"linecolor\":\"white\",\"minorgridcolor\":\"white\",\"startlinecolor\":\"#2a3f5f\"},\"type\":\"carpet\"}],\"table\":[{\"cells\":{\"fill\":{\"color\":\"#EBF0F8\"},\"line\":{\"color\":\"white\"}},\"header\":{\"fill\":{\"color\":\"#C8D4E3\"},\"line\":{\"color\":\"white\"}},\"type\":\"table\"}],\"barpolar\":[{\"marker\":{\"line\":{\"color\":\"#E5ECF6\",\"width\":0.5},\"pattern\":{\"fillmode\":\"overlay\",\"size\":10,\"solidity\":0.2}},\"type\":\"barpolar\"}],\"pie\":[{\"automargin\":true,\"type\":\"pie\"}]},\"layout\":{\"autotypenumbers\":\"strict\",\"colorway\":[\"#636efa\",\"#EF553B\",\"#00cc96\",\"#ab63fa\",\"#FFA15A\",\"#19d3f3\",\"#FF6692\",\"#B6E880\",\"#FF97FF\",\"#FECB52\"],\"font\":{\"color\":\"#2a3f5f\"},\"hovermode\":\"closest\",\"hoverlabel\":{\"align\":\"left\"},\"paper_bgcolor\":\"white\",\"plot_bgcolor\":\"#E5ECF6\",\"polar\":{\"bgcolor\":\"#E5ECF6\",\"angularaxis\":{\"gridcolor\":\"white\",\"linecolor\":\"white\",\"ticks\":\"\"},\"radialaxis\":{\"gridcolor\":\"white\",\"linecolor\":\"white\",\"ticks\":\"\"}},\"ternary\":{\"bgcolor\":\"#E5ECF6\",\"aaxis\":{\"gridcolor\":\"white\",\"linecolor\":\"white\",\"ticks\":\"\"},\"baxis\":{\"gridcolor\":\"white\",\"linecolor\":\"white\",\"ticks\":\"\"},\"caxis\":{\"gridcolor\":\"white\",\"linecolor\":\"white\",\"ticks\":\"\"}},\"coloraxis\":{\"colorbar\":{\"outlinewidth\":0,\"ticks\":\"\"}},\"colorscale\":{\"sequential\":[[0.0,\"#0d0887\"],[0.1111111111111111,\"#46039f\"],[0.2222222222222222,\"#7201a8\"],[0.3333333333333333,\"#9c179e\"],[0.4444444444444444,\"#bd3786\"],[0.5555555555555556,\"#d8576b\"],[0.6666666666666666,\"#ed7953\"],[0.7777777777777778,\"#fb9f3a\"],[0.8888888888888888,\"#fdca26\"],[1.0,\"#f0f921\"]],\"sequentialminus\":[[0.0,\"#0d0887\"],[0.1111111111111111,\"#46039f\"],[0.2222222222222222,\"#7201a8\"],[0.3333333333333333,\"#9c179e\"],[0.4444444444444444,\"#bd3786\"],[0.5555555555555556,\"#d8576b\"],[0.6666666666666666,\"#ed7953\"],[0.7777777777777778,\"#fb9f3a\"],[0.8888888888888888,\"#fdca26\"],[1.0,\"#f0f921\"]],\"diverging\":[[0,\"#8e0152\"],[0.1,\"#c51b7d\"],[0.2,\"#de77ae\"],[0.3,\"#f1b6da\"],[0.4,\"#fde0ef\"],[0.5,\"#f7f7f7\"],[0.6,\"#e6f5d0\"],[0.7,\"#b8e186\"],[0.8,\"#7fbc41\"],[0.9,\"#4d9221\"],[1,\"#276419\"]]},\"xaxis\":{\"gridcolor\":\"white\",\"linecolor\":\"white\",\"ticks\":\"\",\"title\":{\"standoff\":15},\"zerolinecolor\":\"white\",\"automargin\":true,\"zerolinewidth\":2},\"yaxis\":{\"gridcolor\":\"white\",\"linecolor\":\"white\",\"ticks\":\"\",\"title\":{\"standoff\":15},\"zerolinecolor\":\"white\",\"automargin\":true,\"zerolinewidth\":2},\"scene\":{\"xaxis\":{\"backgroundcolor\":\"#E5ECF6\",\"gridcolor\":\"white\",\"linecolor\":\"white\",\"showbackground\":true,\"ticks\":\"\",\"zerolinecolor\":\"white\",\"gridwidth\":2},\"yaxis\":{\"backgroundcolor\":\"#E5ECF6\",\"gridcolor\":\"white\",\"linecolor\":\"white\",\"showbackground\":true,\"ticks\":\"\",\"zerolinecolor\":\"white\",\"gridwidth\":2},\"zaxis\":{\"backgroundcolor\":\"#E5ECF6\",\"gridcolor\":\"white\",\"linecolor\":\"white\",\"showbackground\":true,\"ticks\":\"\",\"zerolinecolor\":\"white\",\"gridwidth\":2}},\"shapedefaults\":{\"line\":{\"color\":\"#2a3f5f\"}},\"annotationdefaults\":{\"arrowcolor\":\"#2a3f5f\",\"arrowhead\":0,\"arrowwidth\":1},\"geo\":{\"bgcolor\":\"white\",\"landcolor\":\"#E5ECF6\",\"subunitcolor\":\"white\",\"showland\":true,\"showlakes\":true,\"lakecolor\":\"white\"},\"title\":{\"x\":0.05},\"mapbox\":{\"style\":\"light\"}}}},                        {\"responsive\": true}                    ).then(function(){\n",
              "                            \n",
              "var gd = document.getElementById('c28731e5-3693-4f33-992e-6473e9a2ce24');\n",
              "var x = new MutationObserver(function (mutations, observer) {{\n",
              "        var display = window.getComputedStyle(gd).display;\n",
              "        if (!display || display === 'none') {{\n",
              "            console.log([gd, 'removed!']);\n",
              "            Plotly.purge(gd);\n",
              "            observer.disconnect();\n",
              "        }}\n",
              "}});\n",
              "\n",
              "// Listen for the removal of the full notebook cells\n",
              "var notebookContainer = gd.closest('#notebook-container');\n",
              "if (notebookContainer) {{\n",
              "    x.observe(notebookContainer, {childList: true});\n",
              "}}\n",
              "\n",
              "// Listen for the clearing of the current output cell\n",
              "var outputEl = gd.closest('.output');\n",
              "if (outputEl) {{\n",
              "    x.observe(outputEl, {childList: true});\n",
              "}}\n",
              "\n",
              "                        })                };                            </script>        </div>\n",
              "</body>\n",
              "</html>"
            ]
          },
          "metadata": {}
        }
      ]
    },
    {
      "cell_type": "markdown",
      "source": [
        "Результаты поворота и композиции отражений совпали."
      ],
      "metadata": {
        "id": "M84QIDCLzKRA"
      }
    }
  ]
}